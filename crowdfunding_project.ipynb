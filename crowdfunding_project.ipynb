{
  "cells": [
    {
      "cell_type": "markdown",
      "metadata": {
        "id": "view-in-github",
        "colab_type": "text"
      },
      "source": [
        "<a href=\"https://colab.research.google.com/github/Chenhere22/Crowdfunding_MachineLearning/blob/main/crowdfunding_project.ipynb\" target=\"_parent\"><img src=\"https://colab.research.google.com/assets/colab-badge.svg\" alt=\"Open In Colab\"/></a>"
      ]
    },
    {
      "cell_type": "markdown",
      "metadata": {
        "id": "3Xrf7giqNmCn"
      },
      "source": [
        "# Data preprocessing\n",
        "in other document"
      ]
    },
    {
      "cell_type": "code",
      "execution_count": null,
      "metadata": {
        "colab": {
          "base_uri": "https://localhost:8080/"
        },
        "id": "sxbmLpSQ5Asd",
        "outputId": "4272d8f7-f000-40ef-d6bb-6842dc5f815b"
      },
      "outputs": [
        {
          "output_type": "stream",
          "name": "stdout",
          "text": [
            "Mounted at /content/drive\n"
          ]
        }
      ],
      "source": [
        "from google.colab import drive\n",
        "drive.mount('/content/drive')\n",
        "import pandas as pd\n",
        "file_path = '/content/drive/My Drive/Colab Notebooks/project.csv'\n",
        "df = pd.read_csv(file_path)\n"
      ]
    },
    {
      "cell_type": "markdown",
      "metadata": {
        "id": "AJCJImHXWDML"
      },
      "source": [
        "## Relationship exploration/Visualisation\n"
      ]
    },
    {
      "cell_type": "markdown",
      "metadata": {
        "id": "UxWa_vMZbV7Q"
      },
      "source": [
        "Plotting by Li\n",
        "\n"
      ]
    },
    {
      "cell_type": "code",
      "execution_count": null,
      "metadata": {
        "id": "qDtnP2BrjBRx"
      },
      "outputs": [],
      "source": [
        "#plotting 1:\n",
        "import seaborn as sns\n",
        "import matplotlib.pyplot as plt\n",
        "import plotly.express as px\n",
        "from scipy.stats import chi2_contingency\n",
        "from statsmodels.formula.api import ols\n",
        "from scipy.stats import normaltest\n",
        "\n",
        "# Filter out rows with zero or very small values in 'goal' or 'backers'\n",
        "filtered_df = df[(df['goal'] < 60000) & (df['backers'] <60000)]\n",
        "sns.relplot(x='goal', y='backers', data=filtered_df)\n",
        "plt.title('The relationship between goal and backers')\n",
        "plt.show();\n",
        "\n",
        "#Plot 2: The Distribution of Funding Across States by Top 5 Main Category\n",
        "# Select the top 5 main categories (you can customize which categories you want)\n",
        "top_5_categories = ['Publishing', 'Film & Vedio', 'Music', 'Food', 'Design']\n",
        "\n",
        "# Filter the dataframe to include only the rows where 'main_category' is in the selected categories\n",
        "filtered_df = df[df['main_category'].isin(top_5_categories)]\n",
        "\n",
        "# Create the countplot with the filtered data\n",
        "sns.countplot(x='state', hue='main_category', data=filtered_df)\n",
        "\n",
        "# Customize the plot as before\n",
        "plt.ylim(0, 30000)\n",
        "plt.xticks(rotation=45)\n",
        "plt.xlabel('State')\n",
        "plt.ylabel('Number of Fundings')\n",
        "plt.title('The Distribution of Funding Across States by Top 5 Main Category')\n",
        "plt.show();\n",
        "\n",
        "import statsmodels.api as sm\n",
        "import statsmodels.formula.api as smf\n",
        "\n",
        "df['main_category'] = df['main_category'].astype('category')\n",
        "model = smf.ols('main_category.cat.codes ~ state', data=df).fit()\n",
        "\n",
        "# Perform ANOVA\n",
        "anova_results = sm.stats.anova_lm(model, typ=2)\n",
        "anova_results\n",
        "\n",
        "#plotting 3:numer of backers of different state\n",
        "\n",
        "import plotly.graph_objects as go\n",
        "grouped_data = df.groupby('state')['backers'].sum().reset_index()\n",
        "\n",
        "# Create the bar plot with aggregated data\n",
        "fig = go.Figure()\n",
        "fig.add_trace(go.Bar(x=grouped_data['state'], y=grouped_data['backers']))\n",
        "\n",
        "# Update the layout\n",
        "fig.update_layout(\n",
        "    title='Total Number of Backers by State',\n",
        "    xaxis_title='State',\n",
        "    yaxis_title='Number of Backers',\n",
        "    yaxis=dict(range=[0, grouped_data['backers'].max() * 1.1]))\n",
        "\n",
        "fig.show();\n",
        "\n",
        "# Import the library\n",
        "import statsmodels.api\n",
        "\n",
        "# Realize the ANOVA test and display the results\n",
        "result = statsmodels.formula.api.ols('backers ~ state', data=df).fit()\n",
        "statsmodels.api.stats.anova_lm(result)\n",
        "\n",
        "\n",
        "#plotting 4: backers of different category and state\n",
        "\n",
        "fig = px.box(df, x=df['main_category'], y=df['backers'], color=df['state'],\n",
        "             title='Plot of Backers by Main Category and State')\n",
        "fig.update_layout(\n",
        "    xaxis_title='Main Category',\n",
        "    yaxis_title='Backers')\n",
        "\n",
        "fig.show();\n",
        "\n",
        "#plotting 5: backers of different state and category in heatmap\n",
        "\n",
        "pivot_table = pd.crosstab(df['state'], df['main_category'])\n",
        "fig = go.Figure(data=go.Heatmap(\n",
        "    z=pivot_table.values,\n",
        "    x=pivot_table.columns,\n",
        "    y=pivot_table.index,\n",
        "    colorscale='Greens',\n",
        "    colorbar=dict(title='Count') ))\n",
        "\n",
        "# Update layout\n",
        "fig.update_layout(\n",
        "    title='Heatmap of State vs Main Category',\n",
        "    xaxis_title='Main Category',\n",
        "    yaxis_title='State',\n",
        "    xaxis=dict(tickmode='array', tickvals=pivot_table.columns),\n",
        "    yaxis=dict(tickmode='array', tickvals=pivot_table.index))\n",
        "\n",
        "fig.show();"
      ]
    },
    {
      "cell_type": "markdown",
      "metadata": {
        "id": "mgyihnzDSfYt"
      },
      "source": [
        "plotting by Francesco"
      ]
    },
    {
      "cell_type": "code",
      "execution_count": null,
      "metadata": {
        "id": "1bHuPhnQc7_1"
      },
      "outputs": [],
      "source": [
        "# Load and preprocess the data\n",
        "dtype_spec = {\n",
        "    'usd pledged ': 'str',\n",
        "    'usd_pledged_real': 'str',\n",
        "    'usd_goal_real': 'str'\n",
        "}\n",
        "\n",
        "df = pd.read_csv('/Users/Francesco1/Downloads/ks-projects-201612.csv', encoding='ISO-8859-1', dtype=dtype_spec, low_memory=False)\n",
        "df = df.iloc[:, :-4]\n",
        "\n",
        "df = df.rename(columns={'ID ': 'ID', 'name ':'name', 'category ':'category', 'main_category ':'main_category',\n",
        "                        'currency ':'currency', 'deadline ': 'deadline', 'goal ':'goal', 'launched ': 'launched',\n",
        "                        'pledged ':'pledged', 'state ':'state', 'backers ': 'backers', 'country ': 'country',\n",
        "                        'usd pledged ':'usd_pledged'})\n",
        "\n",
        "row = df.iloc[19800:20000, :].copy()\n",
        "row['usd_pledged'] = pd.to_numeric(row['usd_pledged'], errors='coerce')\n",
        "row['goal'] = pd.to_numeric(row['goal'], errors='coerce')\n",
        "\n",
        "# Success Rate by State\n",
        "state_success_rate = row['state'].value_counts(normalize=True)\n",
        "plt.figure(figsize=(14, 7))\n",
        "sns.barplot(x=state_success_rate.index, y=state_success_rate.values, palette='Set1')\n",
        "plt.title('Success Rate by State')\n",
        "plt.xlabel('State')\n",
        "plt.ylabel('Success Rate')\n",
        "plt.xticks(rotation=90)\n",
        "plt.show()\n",
        "\n",
        "# Chi-square test for State Success Rate\n",
        "state_success_count = row['state'].value_counts()\n",
        "state_success_successful = row[row['state'] == 'successful']['state'].value_counts()\n",
        "state_summary = pd.concat([state_success_count, state_success_successful], axis=1).fillna(0)\n",
        "state_summary.columns = ['Total Projects', 'Successful Projects']\n",
        "state_summary['Failure Projects'] = state_summary['Total Projects'] - state_summary['Successful Projects']\n",
        "chi2, p, dof, ex = chi2_contingency(state_summary)\n",
        "print(f\"Chi-square test p-value for state success rate: {p}\")\n",
        "\n",
        "# Pledged Amount Distribution by State\n",
        "plt.figure(figsize=(14, 7))\n",
        "sns.boxplot(x='state', y='usd_pledged', data=row, palette='Set2')\n",
        "plt.title('Pledged Amount Distribution by State')\n",
        "plt.xlabel('State')\n",
        "plt.ylabel('Pledged Amount (USD)')\n",
        "plt.xticks(rotation=90)\n",
        "plt.yscale('log')\n",
        "plt.show()\n",
        "\n",
        "# Normality test for pledged amount\n",
        "for state in row['state'].unique():\n",
        "    state_data = row[row['state'] == state]['usd_pledged'].dropna()\n",
        "    if len(state_data) >= 8:\n",
        "        try:\n",
        "            stat, p_value = normaltest(state_data)\n",
        "            print(f\"{state} - Normality test p-value: {p_value}\")\n",
        "        except Exception as e:\n",
        "            print(f\"{state} - Normality test failed: {e}\")\n",
        "    else:\n",
        "        print(f\"{state} - Not enough data for normality test\")\n",
        "\n",
        "# Success Rate by Currency\n",
        "currency_success_rate = row['currency'].value_counts(normalize=True)\n",
        "plt.figure(figsize=(14, 7))\n",
        "sns.barplot(x=currency_success_rate.index, y=currency_success_rate.values, palette='Set3')\n",
        "plt.title('Success Rate by Currency')\n",
        "plt.xlabel('Currency')\n",
        "plt.ylabel('Success Rate')\n",
        "plt.xticks(rotation=90)\n",
        "plt.show()\n",
        "\n",
        "# Chi-square test for Currency Success Rate\n",
        "currency_success_count = row['currency'].value_counts()\n",
        "currency_success_successful = row[row['state'] == 'successful']['currency'].value_counts()\n",
        "currency_summary = pd.concat([currency_success_count, currency_success_successful], axis=1).fillna(0)\n",
        "currency_summary.columns = ['Total Projects', 'Successful Projects']\n",
        "currency_summary['Failure Projects'] = currency_summary['Total Projects'] - currency_summary['Successful Projects']\n",
        "chi2, p, dof, ex = chi2_contingency(currency_summary)\n",
        "print(f\"Chi-square test p-value for currency success rate: {p}\")\n",
        "\n",
        "# Average Pledged Amount by Launch Year\n",
        "row['launch_year'] = pd.to_datetime(row['launched'], errors='coerce').dt.year\n",
        "row = row.dropna(subset=['usd_pledged', 'launch_year'])\n",
        "\n",
        "avg_pledged_by_year = row.groupby('launch_year')['usd_pledged'].mean()\n",
        "plt.figure(figsize=(14, 7))\n",
        "sns.lineplot(x=avg_pledged_by_year.index, y=avg_pledged_by_year.values, marker='o', color='purple')\n",
        "plt.title('Average Pledged Amount by Launch Year')\n",
        "plt.xlabel('Launch Year')\n",
        "plt.ylabel('Average Pledged Amount (USD)')\n",
        "plt.show()\n",
        "\n",
        "# Linear Regression: Pledged Amount ~ Launch Year\n",
        "model = ols('usd_pledged ~ launch_year', data=row).fit()\n",
        "print(model.summary())\n",
        "\n",
        "# Scatter Plot: Pledged Amount vs. Goal Amount by State\n",
        "palette = {\n",
        "    'successful': 'green',\n",
        "    'failed': 'red',\n",
        "    'canceled': 'orange',\n",
        "    'live': 'blue',\n",
        "    'suspended': 'purple',\n",
        "    'undefined': 'grey'\n",
        "}\n",
        "\n",
        "plt.figure(figsize=(14, 7))\n",
        "sns.scatterplot(x='goal', y='usd_pledged', data=row, hue='state', alpha=0.7, palette=palette)\n",
        "plt.title('Pledged Amount vs. Goal Amount by State')\n",
        "plt.xlabel('Goal Amount (USD)')\n",
        "plt.ylabel('Pledged Amount (USD)')\n",
        "plt.xscale('log')\n",
        "plt.yscale('log')\n",
        "plt.show()"
      ]
    },
    {
      "cell_type": "markdown",
      "metadata": {
        "id": "jy8X3jh86uRd"
      },
      "source": [
        "Eunice plotting"
      ]
    },
    {
      "cell_type": "code",
      "execution_count": null,
      "metadata": {
        "colab": {
          "base_uri": "https://localhost:8080/",
          "height": 108
        },
        "id": "BJSWTHwA6s4k",
        "outputId": "a86a980a-6e9c-41a2-dc68-61cc007b7fec"
      },
      "outputs": [
        {
          "ename": "IndentationError",
          "evalue": "unexpected indent (<ipython-input-20-e8ec51819584>, line 3)",
          "output_type": "error",
          "traceback": [
            "\u001b[0;36m  File \u001b[0;32m\"<ipython-input-20-e8ec51819584>\"\u001b[0;36m, line \u001b[0;32m3\u001b[0m\n\u001b[0;31m    plt.figure(figsize=(10, 6))\u001b[0m\n\u001b[0m    ^\u001b[0m\n\u001b[0;31mIndentationError\u001b[0m\u001b[0;31m:\u001b[0m unexpected indent\n"
          ]
        }
      ],
      "source": [
        "# Calcul de la moyenne des fonds levés pour chaque combinaison de catégorie et d'état  heatmap_data = df.pivot_table(index='State', columns='Category', values='USD_Pledged',  aggfunc='mean')\n",
        " # Création de la heatmap\n",
        "plt.figure(figsize=(10, 6))\n",
        "sns.heatmap(data=df, annot=True, fmt=\".2f\", cmap=\"YlGnBu\", linewidths=0.5)\n",
        "plt.title('Influence de la catégorie et de l\\'état sur les fonds levés')\n",
        "plt.xlabel('Catégorie')\n",
        "plt.ylabel('État')\n",
        "plt.show()\n",
        "\n",
        "# Create the boxplot\n",
        " plt.figure(figsize=(8, 4))\n",
        " sns.boxplot(x='Category', y='USD_Pledged', data=df, palette='Set2')\n",
        " plt.title('Distribution of Funds Raised by Category')\n",
        " plt.xlabel('Category')\n",
        " plt.ylabel('USD Pledged')\n",
        " plt.show()\n",
        "\n",
        " # Create the violin plot\n",
        " plt.figure(figsize=(10, 6))\n",
        " sns.violinplot(x='State', y='USD_Pledged', data=df, palette='muted')\n",
        " plt.title('Distribution of Pledged Funds by Project State')\n",
        " plt.xlabel('State')\n",
        " plt.ylabel('USD Pledged')\n",
        " plt.show()\n",
        "\n",
        "# Create scatter plot with regression line\n",
        "plt.figure(figsize=(10,6))\n",
        "sns.regplot(x='deadline', y='usd_pledged', data=df,\n",
        "scatter_kws={'s': 100, 'alpha': 0.7}, ine_kws={'color': 'blue', 'linewidth': 2})\n",
        "plt.title('Impact of Deadline on Pledged Funds')\n",
        "plt.xlabel('Days Until Deadline')\n",
        "plt.ylabel('USD Pledged')\n",
        "plt.grid(True)\n",
        "plt.show()\n",
        "\n",
        "# Create scatter plot with regression line\n",
        " plt.figure(figsize=(10,6))\n",
        " sns.regplot(x='Days_until_deadline', y='USD_Pledged', data=df,\n",
        " scatter_kws={'s': 100, 'alpha': 0.7}, # Customize scatter points l ine_kws={'color': 'blue', 'linewidth': 2}) # Customize regression line  plt.title('Impact of Deadline on Pledged Funds')\n",
        " plt.xlabel('Days Until Deadline')\n",
        " plt.ylabel('USD Pledged')\n",
        " plt.grid(True)\n",
        " plt.show()\n",
        "\n",
        "# Calculate proportions\n",
        " state_counts = df.groupby(['category_name',\n",
        "' project_state']).size().reset_index(name='Count')\n",
        " state_counts['Proportion'] =\n",
        " state_counts.groupby('category_name')['Count'].transform(lambda x: x / x.sum())\n",
        " # Create the bar plot\n",
        " plt.figure(figsize=(10, 6))\n",
        " sns.barplot(x='category_name', y='Proportion', hue='project_state', data=state_counts,  palette='Set2')\n",
        " plt.title('Proportion of Project States by Category')\n",
        " plt.xlabel('Category')\n",
        " plt.ylabel('Proportion')\n",
        " plt.legend(title='State')\n",
        " plt.show()\n"
      ]
    },
    {
      "cell_type": "markdown",
      "metadata": {
        "id": "P54gMggEiB_d"
      },
      "source": [
        "### Modelling"
      ]
    },
    {
      "cell_type": "markdown",
      "metadata": {
        "id": "HSr5fnCSA_yZ"
      },
      "source": [
        "# Modelling"
      ]
    },
    {
      "cell_type": "code",
      "execution_count": null,
      "metadata": {
        "id": "6Fcrqf_xA-Kk"
      },
      "outputs": [],
      "source": [
        "#outliers and extreme values"
      ]
    },
    {
      "cell_type": "code",
      "execution_count": null,
      "metadata": {
        "id": "XS8GiOqy1PmB"
      },
      "outputs": [],
      "source": [
        "target = df['state']"
      ]
    },
    {
      "cell_type": "code",
      "execution_count": null,
      "metadata": {
        "id": "kuWFp6U6EKYE"
      },
      "outputs": [],
      "source": [
        "df = df.drop(['state','ID','country','currency'], axis=1)\n",
        "\n",
        "# Perform your operations on target as intended\n",
        "target = target.replace({'failed': 0, 'canceled': 0, 'live': 0, 'suspended': 0, 'successful': 1})\n",
        "target = target.astype(int)"
      ]
    },
    {
      "cell_type": "code",
      "execution_count": null,
      "metadata": {
        "id": "QO5zGgsvUwso"
      },
      "outputs": [],
      "source": [
        "# preprocessing using pineline\n",
        "\n",
        "from sklearn.preprocessing import StandardScaler, OneHotEncoder\n",
        "from sklearn.pipeline import Pipeline\n",
        "from sklearn.impute import SimpleImputer\n",
        "from imblearn.over_sampling import SMOTE\n",
        "\n",
        "num_feas=['goal', 'pledged', 'backers', 'usd_pledged']\n",
        "cat_feas=['main_category']\n",
        "\n",
        "num_transformer=Pipeline(steps=[\n",
        "    ('imputer', SimpleImputer(strategy='median')),\n",
        "    ('scaler', StandardScaler())])\n",
        "\n",
        "cat_transformer=Pipeline(steps=[\n",
        "    ('imputer', SimpleImputer(strategy='most_frequent')),\n",
        "    ('onehot', OneHotEncoder(handle_unknown='ignore'))])\n",
        "\n",
        "from sklearn.compose import ColumnTransformer\n",
        "preprocessor=ColumnTransformer(transformers=[\n",
        "    ('num', num_transformer, num_feas),\n",
        "    ('cat', cat_transformer, cat_feas)])\n",
        "\n",
        "df= preprocessor.fit_transform(df)"
      ]
    },
    {
      "cell_type": "code",
      "execution_count": null,
      "metadata": {
        "id": "_e8hhI48Do5H"
      },
      "outputs": [],
      "source": [
        "from sklearn.model_selection import train_test_split\n",
        "X_train,X_test,y_train,y_test=train_test_split(df,target,test_size=0.2, random_state=42)"
      ]
    },
    {
      "cell_type": "code",
      "execution_count": null,
      "metadata": {
        "colab": {
          "base_uri": "https://localhost:8080/"
        },
        "id": "9iZLtGgx3q1H",
        "outputId": "a6bcc8c1-7deb-47d5-e9a4-9f3e06e6f039"
      },
      "outputs": [
        {
          "output_type": "stream",
          "name": "stdout",
          "text": [
            "Columns in X_train: RangeIndex(start=0, stop=19, step=1)\n",
            "Columns in X_test: RangeIndex(start=0, stop=19, step=1)\n"
          ]
        }
      ],
      "source": [
        "# extreme value\n",
        "\n",
        "from sklearn.base import BaseEstimator, TransformerMixin\n",
        "\n",
        "class IQR(BaseEstimator, TransformerMixin):\n",
        "    def __init__(self):\n",
        "        pass\n",
        "\n",
        "    def fit(self, X, y=None):\n",
        "        # Convert X to DataFrame if it's a sparse matrix\n",
        "        if isinstance(X, pd.DataFrame):\n",
        "            self.numeric_cols = X.select_dtypes(include=['number']).columns\n",
        "        else:\n",
        "            X = pd.DataFrame(X.toarray())  # Convert sparse matrix to dense DataFrame\n",
        "            self.numeric_cols = X.columns  # All columns are numeric in this case\n",
        "\n",
        "        self.q1 = X[self.numeric_cols].quantile(0.25)\n",
        "        self.q3 = X[self.numeric_cols].quantile(0.75)\n",
        "        self.iqr = self.q3 - self.q1\n",
        "        return self\n",
        "\n",
        "    def transform(self, X, y=None):\n",
        "        # Convert X to DataFrame if it's a sparse matrix\n",
        "        if not isinstance(X, pd.DataFrame):\n",
        "            X = pd.DataFrame(X.toarray())  # Convert sparse matrix to dense DataFrame\n",
        "\n",
        "        # Calculate the lower and upper bounds for numeric columns only\n",
        "        lower_bound = self.q1 - 1.5 * self.iqr\n",
        "        upper_bound = self.q3 + 1.5 * self.iqr\n",
        "\n",
        "        # Apply clipping only to numeric columns\n",
        "        X[self.numeric_cols] = X[self.numeric_cols].clip(lower=lower_bound, upper=upper_bound, axis=1)\n",
        "        return X\n",
        "\n",
        "iqr = IQR()\n",
        "X_train = iqr.fit_transform(X_train)\n",
        "X_test = iqr.transform(X_test)\n",
        "\n",
        "print(\"Columns in X_train:\", X_train.columns)\n",
        "print(\"Columns in X_test:\", X_test.columns)"
      ]
    },
    {
      "cell_type": "markdown",
      "metadata": {
        "id": "v7FAFDaPVVOr"
      },
      "source": [
        "## Modelling 1: Logistic Regression"
      ]
    },
    {
      "cell_type": "code",
      "execution_count": null,
      "metadata": {
        "colab": {
          "base_uri": "https://localhost:8080/"
        },
        "id": "vBv_v_JFHb7H",
        "outputId": "01c17fa3-f9f9-43ce-82b7-7cb77542ce4f"
      },
      "outputs": [
        {
          "name": "stdout",
          "output_type": "stream",
          "text": [
            "Model accuracy: 0.8707\n"
          ]
        }
      ],
      "source": [
        "from sklearn.linear_model import LogisticRegression\n",
        "model = LogisticRegression()\n",
        "model.fit(X_train, y_train)\n",
        "y_pred = model.predict(X_test)\n",
        "accuracy = model.score(X_test, y_test)\n",
        "\n",
        "print(f\"Model accuracy: {accuracy:.4f}\")\n"
      ]
    },
    {
      "cell_type": "code",
      "execution_count": null,
      "metadata": {
        "colab": {
          "base_uri": "https://localhost:8080/"
        },
        "id": "ILCl37H9J4U9",
        "outputId": "b886fa67-210d-42fc-811f-20ad71cbcee4"
      },
      "outputs": [
        {
          "name": "stdout",
          "output_type": "stream",
          "text": [
            "Classification Report:\n",
            "               precision    recall  f1-score   support\n",
            "\n",
            "           0       0.87      0.94      0.90     41351\n",
            "           1       0.88      0.74      0.80     22515\n",
            "\n",
            "    accuracy                           0.87     63866\n",
            "   macro avg       0.87      0.84      0.85     63866\n",
            "weighted avg       0.87      0.87      0.87     63866\n",
            "\n",
            "Confusion Matrix:\n",
            "[[39020  2331]\n",
            " [ 5927 16588]]\n"
          ]
        }
      ],
      "source": [
        "from sklearn.metrics import classification_report, confusion_matrix\n",
        "\n",
        "# Generate a classification report\n",
        "report = classification_report(y_test, y_pred)\n",
        "print(\"Classification Report:\\n\", report)\n",
        "\n",
        "conf_matrix = confusion_matrix(y_test, y_pred)\n",
        "print(\"Confusion Matrix:\")\n",
        "print(conf_matrix)\n"
      ]
    },
    {
      "cell_type": "markdown",
      "metadata": {
        "id": "AFFJtsLmKqEd"
      },
      "source": [
        "#Modelling 2: Suport vector machine (classfication)"
      ]
    },
    {
      "cell_type": "code",
      "execution_count": null,
      "metadata": {
        "colab": {
          "base_uri": "https://localhost:8080/",
          "height": 74
        },
        "id": "YwH2sQp1KoQc",
        "outputId": "01666ad5-d704-40f8-f16b-f36f7c83c8fd"
      },
      "outputs": [
        {
          "data": {
            "text/html": [
              "<style>#sk-container-id-1 {color: black;}#sk-container-id-1 pre{padding: 0;}#sk-container-id-1 div.sk-toggleable {background-color: white;}#sk-container-id-1 label.sk-toggleable__label {cursor: pointer;display: block;width: 100%;margin-bottom: 0;padding: 0.3em;box-sizing: border-box;text-align: center;}#sk-container-id-1 label.sk-toggleable__label-arrow:before {content: \"▸\";float: left;margin-right: 0.25em;color: #696969;}#sk-container-id-1 label.sk-toggleable__label-arrow:hover:before {color: black;}#sk-container-id-1 div.sk-estimator:hover label.sk-toggleable__label-arrow:before {color: black;}#sk-container-id-1 div.sk-toggleable__content {max-height: 0;max-width: 0;overflow: hidden;text-align: left;background-color: #f0f8ff;}#sk-container-id-1 div.sk-toggleable__content pre {margin: 0.2em;color: black;border-radius: 0.25em;background-color: #f0f8ff;}#sk-container-id-1 input.sk-toggleable__control:checked~div.sk-toggleable__content {max-height: 200px;max-width: 100%;overflow: auto;}#sk-container-id-1 input.sk-toggleable__control:checked~label.sk-toggleable__label-arrow:before {content: \"▾\";}#sk-container-id-1 div.sk-estimator input.sk-toggleable__control:checked~label.sk-toggleable__label {background-color: #d4ebff;}#sk-container-id-1 div.sk-label input.sk-toggleable__control:checked~label.sk-toggleable__label {background-color: #d4ebff;}#sk-container-id-1 input.sk-hidden--visually {border: 0;clip: rect(1px 1px 1px 1px);clip: rect(1px, 1px, 1px, 1px);height: 1px;margin: -1px;overflow: hidden;padding: 0;position: absolute;width: 1px;}#sk-container-id-1 div.sk-estimator {font-family: monospace;background-color: #f0f8ff;border: 1px dotted black;border-radius: 0.25em;box-sizing: border-box;margin-bottom: 0.5em;}#sk-container-id-1 div.sk-estimator:hover {background-color: #d4ebff;}#sk-container-id-1 div.sk-parallel-item::after {content: \"\";width: 100%;border-bottom: 1px solid gray;flex-grow: 1;}#sk-container-id-1 div.sk-label:hover label.sk-toggleable__label {background-color: #d4ebff;}#sk-container-id-1 div.sk-serial::before {content: \"\";position: absolute;border-left: 1px solid gray;box-sizing: border-box;top: 0;bottom: 0;left: 50%;z-index: 0;}#sk-container-id-1 div.sk-serial {display: flex;flex-direction: column;align-items: center;background-color: white;padding-right: 0.2em;padding-left: 0.2em;position: relative;}#sk-container-id-1 div.sk-item {position: relative;z-index: 1;}#sk-container-id-1 div.sk-parallel {display: flex;align-items: stretch;justify-content: center;background-color: white;position: relative;}#sk-container-id-1 div.sk-item::before, #sk-container-id-1 div.sk-parallel-item::before {content: \"\";position: absolute;border-left: 1px solid gray;box-sizing: border-box;top: 0;bottom: 0;left: 50%;z-index: -1;}#sk-container-id-1 div.sk-parallel-item {display: flex;flex-direction: column;z-index: 1;position: relative;background-color: white;}#sk-container-id-1 div.sk-parallel-item:first-child::after {align-self: flex-end;width: 50%;}#sk-container-id-1 div.sk-parallel-item:last-child::after {align-self: flex-start;width: 50%;}#sk-container-id-1 div.sk-parallel-item:only-child::after {width: 0;}#sk-container-id-1 div.sk-dashed-wrapped {border: 1px dashed gray;margin: 0 0.4em 0.5em 0.4em;box-sizing: border-box;padding-bottom: 0.4em;background-color: white;}#sk-container-id-1 div.sk-label label {font-family: monospace;font-weight: bold;display: inline-block;line-height: 1.2em;}#sk-container-id-1 div.sk-label-container {text-align: center;}#sk-container-id-1 div.sk-container {/* jupyter's `normalize.less` sets `[hidden] { display: none; }` but bootstrap.min.css set `[hidden] { display: none !important; }` so we also need the `!important` here to be able to override the default hidden behavior on the sphinx rendered scikit-learn.org. See: https://github.com/scikit-learn/scikit-learn/issues/21755 */display: inline-block !important;position: relative;}#sk-container-id-1 div.sk-text-repr-fallback {display: none;}</style><div id=\"sk-container-id-1\" class=\"sk-top-container\"><div class=\"sk-text-repr-fallback\"><pre>SVC(gamma=0.01, kernel=&#x27;poly&#x27;)</pre><b>In a Jupyter environment, please rerun this cell to show the HTML representation or trust the notebook. <br />On GitHub, the HTML representation is unable to render, please try loading this page with nbviewer.org.</b></div><div class=\"sk-container\" hidden><div class=\"sk-item\"><div class=\"sk-estimator sk-toggleable\"><input class=\"sk-toggleable__control sk-hidden--visually\" id=\"sk-estimator-id-1\" type=\"checkbox\" checked><label for=\"sk-estimator-id-1\" class=\"sk-toggleable__label sk-toggleable__label-arrow\">SVC</label><div class=\"sk-toggleable__content\"><pre>SVC(gamma=0.01, kernel=&#x27;poly&#x27;)</pre></div></div></div></div></div>"
            ],
            "text/plain": [
              "SVC(gamma=0.01, kernel='poly')"
            ]
          },
          "execution_count": 7,
          "metadata": {},
          "output_type": "execute_result"
        }
      ],
      "source": [
        "from sklearn import svm\n",
        "clf=svm.SVC(gamma=0.01,kernel='poly')\n",
        "clf.fit(X_train,y_train)"
      ]
    },
    {
      "cell_type": "code",
      "execution_count": null,
      "metadata": {
        "colab": {
          "base_uri": "https://localhost:8080/",
          "height": 143
        },
        "id": "FgS9ydhNojUj",
        "outputId": "2a982082-c6fe-4771-8634-b5eac997194c"
      },
      "outputs": [
        {
          "data": {
            "application/vnd.google.colaboratory.intrinsic+json": {
              "summary": "{\n  \"name\": \"pd\",\n  \"rows\": 2,\n  \"fields\": [\n    {\n      \"column\": \"state\",\n      \"properties\": {\n        \"dtype\": \"number\",\n        \"std\": 0,\n        \"min\": 0,\n        \"max\": 1,\n        \"num_unique_values\": 2,\n        \"samples\": [\n          1,\n          0\n        ],\n        \"semantic_type\": \"\",\n        \"description\": \"\"\n      }\n    },\n    {\n      \"column\": 0,\n      \"properties\": {\n        \"dtype\": \"number\",\n        \"std\": 13319,\n        \"min\": 22515,\n        \"max\": 41351,\n        \"num_unique_values\": 2,\n        \"samples\": [\n          22515,\n          41351\n        ],\n        \"semantic_type\": \"\",\n        \"description\": \"\"\n      }\n    }\n  ]\n}",
              "type": "dataframe"
            },
            "text/html": [
              "\n",
              "  <div id=\"df-b8ad7138-1585-4b15-9e23-af7bb372fa4c\" class=\"colab-df-container\">\n",
              "    <div>\n",
              "<style scoped>\n",
              "    .dataframe tbody tr th:only-of-type {\n",
              "        vertical-align: middle;\n",
              "    }\n",
              "\n",
              "    .dataframe tbody tr th {\n",
              "        vertical-align: top;\n",
              "    }\n",
              "\n",
              "    .dataframe thead th {\n",
              "        text-align: right;\n",
              "    }\n",
              "</style>\n",
              "<table border=\"1\" class=\"dataframe\">\n",
              "  <thead>\n",
              "    <tr style=\"text-align: right;\">\n",
              "      <th>col_0</th>\n",
              "      <th>0</th>\n",
              "    </tr>\n",
              "    <tr>\n",
              "      <th>state</th>\n",
              "      <th></th>\n",
              "    </tr>\n",
              "  </thead>\n",
              "  <tbody>\n",
              "    <tr>\n",
              "      <th>0</th>\n",
              "      <td>41351</td>\n",
              "    </tr>\n",
              "    <tr>\n",
              "      <th>1</th>\n",
              "      <td>22515</td>\n",
              "    </tr>\n",
              "  </tbody>\n",
              "</table>\n",
              "</div>\n",
              "    <div class=\"colab-df-buttons\">\n",
              "\n",
              "  <div class=\"colab-df-container\">\n",
              "    <button class=\"colab-df-convert\" onclick=\"convertToInteractive('df-b8ad7138-1585-4b15-9e23-af7bb372fa4c')\"\n",
              "            title=\"Convert this dataframe to an interactive table.\"\n",
              "            style=\"display:none;\">\n",
              "\n",
              "  <svg xmlns=\"http://www.w3.org/2000/svg\" height=\"24px\" viewBox=\"0 -960 960 960\">\n",
              "    <path d=\"M120-120v-720h720v720H120Zm60-500h600v-160H180v160Zm220 220h160v-160H400v160Zm0 220h160v-160H400v160ZM180-400h160v-160H180v160Zm440 0h160v-160H620v160ZM180-180h160v-160H180v160Zm440 0h160v-160H620v160Z\"/>\n",
              "  </svg>\n",
              "    </button>\n",
              "\n",
              "  <style>\n",
              "    .colab-df-container {\n",
              "      display:flex;\n",
              "      gap: 12px;\n",
              "    }\n",
              "\n",
              "    .colab-df-convert {\n",
              "      background-color: #E8F0FE;\n",
              "      border: none;\n",
              "      border-radius: 50%;\n",
              "      cursor: pointer;\n",
              "      display: none;\n",
              "      fill: #1967D2;\n",
              "      height: 32px;\n",
              "      padding: 0 0 0 0;\n",
              "      width: 32px;\n",
              "    }\n",
              "\n",
              "    .colab-df-convert:hover {\n",
              "      background-color: #E2EBFA;\n",
              "      box-shadow: 0px 1px 2px rgba(60, 64, 67, 0.3), 0px 1px 3px 1px rgba(60, 64, 67, 0.15);\n",
              "      fill: #174EA6;\n",
              "    }\n",
              "\n",
              "    .colab-df-buttons div {\n",
              "      margin-bottom: 4px;\n",
              "    }\n",
              "\n",
              "    [theme=dark] .colab-df-convert {\n",
              "      background-color: #3B4455;\n",
              "      fill: #D2E3FC;\n",
              "    }\n",
              "\n",
              "    [theme=dark] .colab-df-convert:hover {\n",
              "      background-color: #434B5C;\n",
              "      box-shadow: 0px 1px 3px 1px rgba(0, 0, 0, 0.15);\n",
              "      filter: drop-shadow(0px 1px 2px rgba(0, 0, 0, 0.3));\n",
              "      fill: #FFFFFF;\n",
              "    }\n",
              "  </style>\n",
              "\n",
              "    <script>\n",
              "      const buttonEl =\n",
              "        document.querySelector('#df-b8ad7138-1585-4b15-9e23-af7bb372fa4c button.colab-df-convert');\n",
              "      buttonEl.style.display =\n",
              "        google.colab.kernel.accessAllowed ? 'block' : 'none';\n",
              "\n",
              "      async function convertToInteractive(key) {\n",
              "        const element = document.querySelector('#df-b8ad7138-1585-4b15-9e23-af7bb372fa4c');\n",
              "        const dataTable =\n",
              "          await google.colab.kernel.invokeFunction('convertToInteractive',\n",
              "                                                    [key], {});\n",
              "        if (!dataTable) return;\n",
              "\n",
              "        const docLinkHtml = 'Like what you see? Visit the ' +\n",
              "          '<a target=\"_blank\" href=https://colab.research.google.com/notebooks/data_table.ipynb>data table notebook</a>'\n",
              "          + ' to learn more about interactive tables.';\n",
              "        element.innerHTML = '';\n",
              "        dataTable['output_type'] = 'display_data';\n",
              "        await google.colab.output.renderOutput(dataTable, element);\n",
              "        const docLink = document.createElement('div');\n",
              "        docLink.innerHTML = docLinkHtml;\n",
              "        element.appendChild(docLink);\n",
              "      }\n",
              "    </script>\n",
              "  </div>\n",
              "\n",
              "\n",
              "<div id=\"df-e137109f-4049-45cc-a87a-56dd6122ec45\">\n",
              "  <button class=\"colab-df-quickchart\" onclick=\"quickchart('df-e137109f-4049-45cc-a87a-56dd6122ec45')\"\n",
              "            title=\"Suggest charts\"\n",
              "            style=\"display:none;\">\n",
              "\n",
              "<svg xmlns=\"http://www.w3.org/2000/svg\" height=\"24px\"viewBox=\"0 0 24 24\"\n",
              "     width=\"24px\">\n",
              "    <g>\n",
              "        <path d=\"M19 3H5c-1.1 0-2 .9-2 2v14c0 1.1.9 2 2 2h14c1.1 0 2-.9 2-2V5c0-1.1-.9-2-2-2zM9 17H7v-7h2v7zm4 0h-2V7h2v10zm4 0h-2v-4h2v4z\"/>\n",
              "    </g>\n",
              "</svg>\n",
              "  </button>\n",
              "\n",
              "<style>\n",
              "  .colab-df-quickchart {\n",
              "      --bg-color: #E8F0FE;\n",
              "      --fill-color: #1967D2;\n",
              "      --hover-bg-color: #E2EBFA;\n",
              "      --hover-fill-color: #174EA6;\n",
              "      --disabled-fill-color: #AAA;\n",
              "      --disabled-bg-color: #DDD;\n",
              "  }\n",
              "\n",
              "  [theme=dark] .colab-df-quickchart {\n",
              "      --bg-color: #3B4455;\n",
              "      --fill-color: #D2E3FC;\n",
              "      --hover-bg-color: #434B5C;\n",
              "      --hover-fill-color: #FFFFFF;\n",
              "      --disabled-bg-color: #3B4455;\n",
              "      --disabled-fill-color: #666;\n",
              "  }\n",
              "\n",
              "  .colab-df-quickchart {\n",
              "    background-color: var(--bg-color);\n",
              "    border: none;\n",
              "    border-radius: 50%;\n",
              "    cursor: pointer;\n",
              "    display: none;\n",
              "    fill: var(--fill-color);\n",
              "    height: 32px;\n",
              "    padding: 0;\n",
              "    width: 32px;\n",
              "  }\n",
              "\n",
              "  .colab-df-quickchart:hover {\n",
              "    background-color: var(--hover-bg-color);\n",
              "    box-shadow: 0 1px 2px rgba(60, 64, 67, 0.3), 0 1px 3px 1px rgba(60, 64, 67, 0.15);\n",
              "    fill: var(--button-hover-fill-color);\n",
              "  }\n",
              "\n",
              "  .colab-df-quickchart-complete:disabled,\n",
              "  .colab-df-quickchart-complete:disabled:hover {\n",
              "    background-color: var(--disabled-bg-color);\n",
              "    fill: var(--disabled-fill-color);\n",
              "    box-shadow: none;\n",
              "  }\n",
              "\n",
              "  .colab-df-spinner {\n",
              "    border: 2px solid var(--fill-color);\n",
              "    border-color: transparent;\n",
              "    border-bottom-color: var(--fill-color);\n",
              "    animation:\n",
              "      spin 1s steps(1) infinite;\n",
              "  }\n",
              "\n",
              "  @keyframes spin {\n",
              "    0% {\n",
              "      border-color: transparent;\n",
              "      border-bottom-color: var(--fill-color);\n",
              "      border-left-color: var(--fill-color);\n",
              "    }\n",
              "    20% {\n",
              "      border-color: transparent;\n",
              "      border-left-color: var(--fill-color);\n",
              "      border-top-color: var(--fill-color);\n",
              "    }\n",
              "    30% {\n",
              "      border-color: transparent;\n",
              "      border-left-color: var(--fill-color);\n",
              "      border-top-color: var(--fill-color);\n",
              "      border-right-color: var(--fill-color);\n",
              "    }\n",
              "    40% {\n",
              "      border-color: transparent;\n",
              "      border-right-color: var(--fill-color);\n",
              "      border-top-color: var(--fill-color);\n",
              "    }\n",
              "    60% {\n",
              "      border-color: transparent;\n",
              "      border-right-color: var(--fill-color);\n",
              "    }\n",
              "    80% {\n",
              "      border-color: transparent;\n",
              "      border-right-color: var(--fill-color);\n",
              "      border-bottom-color: var(--fill-color);\n",
              "    }\n",
              "    90% {\n",
              "      border-color: transparent;\n",
              "      border-bottom-color: var(--fill-color);\n",
              "    }\n",
              "  }\n",
              "</style>\n",
              "\n",
              "  <script>\n",
              "    async function quickchart(key) {\n",
              "      const quickchartButtonEl =\n",
              "        document.querySelector('#' + key + ' button');\n",
              "      quickchartButtonEl.disabled = true;  // To prevent multiple clicks.\n",
              "      quickchartButtonEl.classList.add('colab-df-spinner');\n",
              "      try {\n",
              "        const charts = await google.colab.kernel.invokeFunction(\n",
              "            'suggestCharts', [key], {});\n",
              "      } catch (error) {\n",
              "        console.error('Error during call to suggestCharts:', error);\n",
              "      }\n",
              "      quickchartButtonEl.classList.remove('colab-df-spinner');\n",
              "      quickchartButtonEl.classList.add('colab-df-quickchart-complete');\n",
              "    }\n",
              "    (() => {\n",
              "      let quickchartButtonEl =\n",
              "        document.querySelector('#df-e137109f-4049-45cc-a87a-56dd6122ec45 button');\n",
              "      quickchartButtonEl.style.display =\n",
              "        google.colab.kernel.accessAllowed ? 'block' : 'none';\n",
              "    })();\n",
              "  </script>\n",
              "</div>\n",
              "\n",
              "    </div>\n",
              "  </div>\n"
            ],
            "text/plain": [
              "col_0      0\n",
              "state       \n",
              "0      41351\n",
              "1      22515"
            ]
          },
          "execution_count": 8,
          "metadata": {},
          "output_type": "execute_result"
        }
      ],
      "source": [
        "y_pred=clf.predict(X_test)\n",
        "pd.crosstab(y_test,y_pred)"
      ]
    },
    {
      "cell_type": "code",
      "execution_count": null,
      "metadata": {
        "colab": {
          "background_save": true
        },
        "id": "F-8KJpTJokoE",
        "outputId": "38bf4c4c-9cc0-4bef-d653-5baed8099021"
      },
      "outputs": [
        {
          "name": "stdout",
          "output_type": "stream",
          "text": [
            "Model accuracy: 0.6475\n",
            "Classification Report:\n",
            "               precision    recall  f1-score   support\n",
            "\n",
            "           0       0.65      1.00      0.79     41351\n",
            "           1       0.00      0.00      0.00     22515\n",
            "\n",
            "    accuracy                           0.65     63866\n",
            "   macro avg       0.32      0.50      0.39     63866\n",
            "weighted avg       0.42      0.65      0.51     63866\n",
            "\n",
            "Confusion Matrix:\n",
            "[[41351     0]\n",
            " [22515     0]]\n"
          ]
        },
        {
          "name": "stderr",
          "output_type": "stream",
          "text": [
            "/usr/local/lib/python3.10/dist-packages/sklearn/metrics/_classification.py:1471: UndefinedMetricWarning: Precision and F-score are ill-defined and being set to 0.0 in labels with no predicted samples. Use `zero_division` parameter to control this behavior.\n",
            "  _warn_prf(average, modifier, msg_start, len(result))\n",
            "/usr/local/lib/python3.10/dist-packages/sklearn/metrics/_classification.py:1471: UndefinedMetricWarning: Precision and F-score are ill-defined and being set to 0.0 in labels with no predicted samples. Use `zero_division` parameter to control this behavior.\n",
            "  _warn_prf(average, modifier, msg_start, len(result))\n",
            "/usr/local/lib/python3.10/dist-packages/sklearn/metrics/_classification.py:1471: UndefinedMetricWarning: Precision and F-score are ill-defined and being set to 0.0 in labels with no predicted samples. Use `zero_division` parameter to control this behavior.\n",
            "  _warn_prf(average, modifier, msg_start, len(result))\n"
          ]
        }
      ],
      "source": [
        "from sklearn.metrics import classification_report, confusion_matrix\n",
        "\n",
        "accuracy = clf.score(X_test, y_test)\n",
        "\n",
        "print(f\"Model accuracy: {accuracy:.4f}\")\n",
        "# Generate a classification report\n",
        "report = classification_report(y_test, y_pred)\n",
        "print(\"Classification Report:\\n\", report)\n",
        "\n",
        "conf_matrix = confusion_matrix(y_test, y_pred)\n",
        "print(\"Confusion Matrix:\")\n",
        "print(conf_matrix)"
      ]
    },
    {
      "cell_type": "markdown",
      "metadata": {
        "id": "KQgIQj9DVRr6"
      },
      "source": [
        "#Modelling 3: Random Forest"
      ]
    },
    {
      "cell_type": "code",
      "execution_count": null,
      "metadata": {
        "colab": {
          "base_uri": "https://localhost:8080/"
        },
        "id": "gMFhXx1oVaM5",
        "outputId": "7e2397da-1037-4ce7-ca31-fb63f53ffbb1"
      },
      "outputs": [
        {
          "output_type": "stream",
          "name": "stdout",
          "text": [
            "Model accuracy on test dataset: 0.9806\n",
            "Model accuracy train dataset: 0.9882291691132145\n",
            "classification report:\n",
            "               precision    recall  f1-score   support\n",
            "\n",
            "           0       0.99      0.98      0.98     41351\n",
            "           1       0.96      0.99      0.97     22515\n",
            "\n",
            "    accuracy                           0.98     63866\n",
            "   macro avg       0.98      0.98      0.98     63866\n",
            "weighted avg       0.98      0.98      0.98     63866\n",
            "\n",
            "Confusion Matrix:\n",
            " [[40347  1004]\n",
            " [  235 22280]]\n"
          ]
        }
      ],
      "source": [
        "from sklearn.ensemble import RandomForestClassifier\n",
        "rf=RandomForestClassifier(n_jobs=-1,random_state=321)\n",
        "rf.fit(X_train,y_train)\n",
        "\n",
        "y_pred=rf.predict(X_test)\n",
        "accuracy=rf.score(X_test,y_test)\n",
        "print(f\"Model accuracy on test dataset: {accuracy:.4f}\")\n",
        "print('Model accuracy train dataset:', rf.score(X_train,y_train))\n",
        "\n",
        "#check overfitting: hyparam metrics of rf\n",
        "\n",
        "from sklearn.metrics import classification_report, confusion_matrix\n",
        "#classfication report and confusion matrix\n",
        "report = classification_report(y_test, y_pred)\n",
        "print('classification report:\\n',report)\n",
        "\n",
        "# Generate a confusion matrix\n",
        "conf_matrix = confusion_matrix(y_test, y_pred)\n",
        "print(\"Confusion Matrix:\\n\",conf_matrix)"
      ]
    },
    {
      "cell_type": "markdown",
      "metadata": {
        "id": "8caRQOMCYcxI"
      },
      "source": [
        "# Modelling 4: Deep Learning"
      ]
    },
    {
      "cell_type": "code",
      "execution_count": null,
      "metadata": {
        "colab": {
          "base_uri": "https://localhost:8080/"
        },
        "id": "Ux3Uule3Yb0-",
        "outputId": "f05e17cb-4ff0-4715-ba68-86bd96a40bad"
      },
      "outputs": [
        {
          "name": "stderr",
          "output_type": "stream",
          "text": [
            "/usr/local/lib/python3.10/dist-packages/keras/src/layers/core/dense.py:87: UserWarning:\n",
            "\n",
            "Do not pass an `input_shape`/`input_dim` argument to a layer. When using Sequential models, prefer using an `Input(shape)` object as the first layer in the model instead.\n",
            "\n"
          ]
        },
        {
          "name": "stdout",
          "output_type": "stream",
          "text": [
            "Epoch 1/20\n",
            "\u001b[1m7984/7984\u001b[0m \u001b[32m━━━━━━━━━━━━━━━━━━━━\u001b[0m\u001b[37m\u001b[0m \u001b[1m25s\u001b[0m 3ms/step - accuracy: 0.8448 - loss: 0.3435 - val_accuracy: 0.9171 - val_loss: 0.2102\n",
            "Epoch 2/20\n",
            "\u001b[1m7984/7984\u001b[0m \u001b[32m━━━━━━━━━━━━━━━━━━━━\u001b[0m\u001b[37m\u001b[0m \u001b[1m43s\u001b[0m 3ms/step - accuracy: 0.9157 - loss: 0.2109 - val_accuracy: 0.9454 - val_loss: 0.1533\n",
            "Epoch 3/20\n",
            "\u001b[1m7984/7984\u001b[0m \u001b[32m━━━━━━━━━━━━━━━━━━━━\u001b[0m\u001b[37m\u001b[0m \u001b[1m21s\u001b[0m 3ms/step - accuracy: 0.9251 - loss: 0.1917 - val_accuracy: 0.9455 - val_loss: 0.1412\n",
            "Epoch 4/20\n",
            "\u001b[1m7984/7984\u001b[0m \u001b[32m━━━━━━━━━━━━━━━━━━━━\u001b[0m\u001b[37m\u001b[0m \u001b[1m48s\u001b[0m 3ms/step - accuracy: 0.9252 - loss: 0.1918 - val_accuracy: 0.9481 - val_loss: 0.1388\n",
            "Epoch 5/20\n",
            "\u001b[1m7984/7984\u001b[0m \u001b[32m━━━━━━━━━━━━━━━━━━━━\u001b[0m\u001b[37m\u001b[0m \u001b[1m21s\u001b[0m 3ms/step - accuracy: 0.9305 - loss: 0.1836 - val_accuracy: 0.9540 - val_loss: 0.1363\n",
            "Epoch 6/20\n",
            "\u001b[1m7984/7984\u001b[0m \u001b[32m━━━━━━━━━━━━━━━━━━━━\u001b[0m\u001b[37m\u001b[0m \u001b[1m22s\u001b[0m 3ms/step - accuracy: 0.9326 - loss: 0.1792 - val_accuracy: 0.9643 - val_loss: 0.1145\n",
            "Epoch 7/20\n",
            "\u001b[1m7984/7984\u001b[0m \u001b[32m━━━━━━━━━━━━━━━━━━━━\u001b[0m\u001b[37m\u001b[0m \u001b[1m55s\u001b[0m 5ms/step - accuracy: 0.9349 - loss: 0.1717 - val_accuracy: 0.9606 - val_loss: 0.1154\n",
            "Epoch 8/20\n",
            "\u001b[1m7984/7984\u001b[0m \u001b[32m━━━━━━━━━━━━━━━━━━━━\u001b[0m\u001b[37m\u001b[0m \u001b[1m21s\u001b[0m 3ms/step - accuracy: 0.9367 - loss: 0.1680 - val_accuracy: 0.9535 - val_loss: 0.1312\n",
            "Epoch 9/20\n",
            "\u001b[1m7984/7984\u001b[0m \u001b[32m━━━━━━━━━━━━━━━━━━━━\u001b[0m\u001b[37m\u001b[0m \u001b[1m41s\u001b[0m 3ms/step - accuracy: 0.9353 - loss: 0.1699 - val_accuracy: 0.9524 - val_loss: 0.1220\n",
            "Epoch 10/20\n",
            "\u001b[1m7984/7984\u001b[0m \u001b[32m━━━━━━━━━━━━━━━━━━━━\u001b[0m\u001b[37m\u001b[0m \u001b[1m45s\u001b[0m 3ms/step - accuracy: 0.9365 - loss: 0.1681 - val_accuracy: 0.9646 - val_loss: 0.1038\n",
            "Epoch 11/20\n",
            "\u001b[1m7984/7984\u001b[0m \u001b[32m━━━━━━━━━━━━━━━━━━━━\u001b[0m\u001b[37m\u001b[0m \u001b[1m20s\u001b[0m 3ms/step - accuracy: 0.9359 - loss: 0.1665 - val_accuracy: 0.9323 - val_loss: 0.1731\n",
            "Epoch 12/20\n",
            "\u001b[1m7984/7984\u001b[0m \u001b[32m━━━━━━━━━━━━━━━━━━━━\u001b[0m\u001b[37m\u001b[0m \u001b[1m22s\u001b[0m 3ms/step - accuracy: 0.9337 - loss: 0.1722 - val_accuracy: 0.9339 - val_loss: 0.1699\n",
            "Epoch 13/20\n",
            "\u001b[1m7984/7984\u001b[0m \u001b[32m━━━━━━━━━━━━━━━━━━━━\u001b[0m\u001b[37m\u001b[0m \u001b[1m20s\u001b[0m 3ms/step - accuracy: 0.9345 - loss: 0.1688 - val_accuracy: 0.9667 - val_loss: 0.1106\n",
            "Epoch 14/20\n",
            "\u001b[1m7984/7984\u001b[0m \u001b[32m━━━━━━━━━━━━━━━━━━━━\u001b[0m\u001b[37m\u001b[0m \u001b[1m24s\u001b[0m 3ms/step - accuracy: 0.9369 - loss: 0.1634 - val_accuracy: 0.9310 - val_loss: 0.1657\n",
            "Epoch 15/20\n",
            "\u001b[1m7984/7984\u001b[0m \u001b[32m━━━━━━━━━━━━━━━━━━━━\u001b[0m\u001b[37m\u001b[0m \u001b[1m21s\u001b[0m 3ms/step - accuracy: 0.9270 - loss: 0.1830 - val_accuracy: 0.9626 - val_loss: 0.1047\n",
            "Epoch 16/20\n",
            "\u001b[1m7984/7984\u001b[0m \u001b[32m━━━━━━━━━━━━━━━━━━━━\u001b[0m\u001b[37m\u001b[0m \u001b[1m46s\u001b[0m 3ms/step - accuracy: 0.9371 - loss: 0.1638 - val_accuracy: 0.8997 - val_loss: 0.2001\n",
            "Epoch 17/20\n",
            "\u001b[1m7984/7984\u001b[0m \u001b[32m━━━━━━━━━━━━━━━━━━━━\u001b[0m\u001b[37m\u001b[0m \u001b[1m38s\u001b[0m 3ms/step - accuracy: 0.9342 - loss: 0.1703 - val_accuracy: 0.9441 - val_loss: 0.1416\n",
            "Epoch 18/20\n",
            "\u001b[1m7984/7984\u001b[0m \u001b[32m━━━━━━━━━━━━━━━━━━━━\u001b[0m\u001b[37m\u001b[0m \u001b[1m21s\u001b[0m 3ms/step - accuracy: 0.9348 - loss: 0.1695 - val_accuracy: 0.9475 - val_loss: 0.1384\n",
            "Epoch 19/20\n",
            "\u001b[1m7984/7984\u001b[0m \u001b[32m━━━━━━━━━━━━━━━━━━━━\u001b[0m\u001b[37m\u001b[0m \u001b[1m40s\u001b[0m 3ms/step - accuracy: 0.9384 - loss: 0.1632 - val_accuracy: 0.9561 - val_loss: 0.1186\n",
            "Epoch 20/20\n",
            "\u001b[1m7984/7984\u001b[0m \u001b[32m━━━━━━━━━━━━━━━━━━━━\u001b[0m\u001b[37m\u001b[0m \u001b[1m22s\u001b[0m 3ms/step - accuracy: 0.9411 - loss: 0.1547 - val_accuracy: 0.9495 - val_loss: 0.1232\n",
            "\u001b[1m1996/1996\u001b[0m \u001b[32m━━━━━━━━━━━━━━━━━━━━\u001b[0m\u001b[37m\u001b[0m \u001b[1m4s\u001b[0m 2ms/step - accuracy: 0.9506 - loss: 0.1207\n"
          ]
        }
      ],
      "source": [
        "from tensorflow.keras.models import Sequential\n",
        "from tensorflow.keras.layers import Dense, Dropout\n",
        "model = Sequential()\n",
        "# Input Layer\n",
        "model.add(Dense(128, input_dim=X_train.shape[1], activation='relu'))\n",
        "model.add(Dropout(0.3))\n",
        "\n",
        "# Hidden Layer 1\n",
        "model.add(Dense(64, activation='relu'))\n",
        "model.add(Dropout(0.3))\n",
        "\n",
        "# Hidden Layer 2\n",
        "model.add(Dense(32, activation='relu'))\n",
        "\n",
        "# Output Layer (Binary Classification: 0 or 1 for success/failure)\n",
        "model.add(Dense(1, activation='sigmoid'))\n",
        "\n",
        "# Compile the model\n",
        "model.compile(optimizer='adam', loss='binary_crossentropy', metrics=['accuracy'])\n",
        "\n",
        "# Train the model\n",
        "history = model.fit(X_train, y_train, validation_data=(X_test, y_test), epochs=20, batch_size=32)\n",
        "\n",
        "# Evaluate the model\n",
        "loss, accuracy = model.evaluate(X_test, y_test)\n"
      ]
    },
    {
      "cell_type": "code",
      "execution_count": 1,
      "metadata": {
        "colab": {
          "base_uri": "https://localhost:8080/",
          "height": 216
        },
        "id": "e4nRPVIkpF1_",
        "outputId": "1b188010-fb84-4bb0-fe73-a9a8b447e9d3"
      },
      "outputs": [
        {
          "output_type": "error",
          "ename": "NameError",
          "evalue": "name 'model' is not defined",
          "traceback": [
            "\u001b[0;31m---------------------------------------------------------------------------\u001b[0m",
            "\u001b[0;31mNameError\u001b[0m                                 Traceback (most recent call last)",
            "\u001b[0;32m<ipython-input-1-2d87006f47ce>\u001b[0m in \u001b[0;36m<cell line: 2>\u001b[0;34m()\u001b[0m\n\u001b[1;32m      1\u001b[0m \u001b[0;31m# Evaluate the model on test data (returns loss and accuracy)\u001b[0m\u001b[0;34m\u001b[0m\u001b[0;34m\u001b[0m\u001b[0m\n\u001b[0;32m----> 2\u001b[0;31m \u001b[0mloss\u001b[0m\u001b[0;34m,\u001b[0m \u001b[0maccuracy\u001b[0m \u001b[0;34m=\u001b[0m \u001b[0mmodel\u001b[0m\u001b[0;34m.\u001b[0m\u001b[0mevaluate\u001b[0m\u001b[0;34m(\u001b[0m\u001b[0mX_test\u001b[0m\u001b[0;34m,\u001b[0m \u001b[0my_test\u001b[0m\u001b[0;34m)\u001b[0m\u001b[0;34m\u001b[0m\u001b[0;34m\u001b[0m\u001b[0m\n\u001b[0m\u001b[1;32m      3\u001b[0m \u001b[0;34m\u001b[0m\u001b[0m\n\u001b[1;32m      4\u001b[0m \u001b[0;31m# Print model accuracy on test data\u001b[0m\u001b[0;34m\u001b[0m\u001b[0;34m\u001b[0m\u001b[0m\n\u001b[1;32m      5\u001b[0m \u001b[0mprint\u001b[0m\u001b[0;34m(\u001b[0m\u001b[0;34mf\"FCNN Model accuracy on test data: {accuracy:.4f}\"\u001b[0m\u001b[0;34m)\u001b[0m\u001b[0;34m\u001b[0m\u001b[0;34m\u001b[0m\u001b[0m\n",
            "\u001b[0;31mNameError\u001b[0m: name 'model' is not defined"
          ]
        }
      ],
      "source": [
        "# Evaluate the model on test data (returns loss and accuracy)\n",
        "loss, accuracy = model.evaluate(X_test, y_test)\n",
        "\n",
        "# Print model accuracy on test data\n",
        "print(f\"FCNN Model accuracy on test data: {accuracy:.4f}\")\n",
        "\n",
        "# You cannot use .score() with Keras models for the training data,\n",
        "# instead, use .evaluate() for training data as well\n",
        "train_loss, train_accuracy = model.evaluate(X_train, y_train)\n",
        "print(f\"FCNN Model accuracy on training data: {train_accuracy:.4f}\")\n",
        "\n",
        "# Predictions on the test set\n",
        "y_pred_prob = model.predict(X_test)\n",
        "\n",
        "# Convert predicted probabilities to class labels\n",
        "# Assuming binary classification, convert probabilities to 0 or 1\n",
        "y_pred = (y_pred_prob > 0.5).astype(int)\n",
        "\n",
        "# If it's multi-class classification, use argmax:\n",
        "# y_pred = y_pred_prob.argmax(axis=1)\n",
        "\n",
        "# Classification report and confusion matrix\n",
        "from sklearn.metrics import classification_report, confusion_matrix\n",
        "\n",
        "# Generate and print classification report\n",
        "report = classification_report(y_test, y_pred)\n",
        "print('Classification report:\\n', report)\n",
        "\n",
        "# Generate and print confusion matrix\n",
        "conf_matrix = confusion_matrix(y_test, y_pred)\n",
        "print(\"Confusion Matrix:\\n\", conf_matrix)\n"
      ]
    },
    {
      "cell_type": "markdown",
      "metadata": {
        "id": "pyt0BFu_W1QQ"
      },
      "source": [
        "# Modelling 5: XGBoost"
      ]
    },
    {
      "cell_type": "code",
      "execution_count": null,
      "metadata": {
        "colab": {
          "base_uri": "https://localhost:8080/"
        },
        "id": "YOHa2wwNXBYe",
        "outputId": "04c80808-8f90-47a3-d3a2-71950c26f542"
      },
      "outputs": [
        {
          "output_type": "stream",
          "name": "stderr",
          "text": [
            "/usr/local/lib/python3.10/dist-packages/xgboost/core.py:158: UserWarning: [06:01:12] WARNING: /workspace/src/learner.cc:740: \n",
            "Parameters: { \"use_label_encoder\" } are not used.\n",
            "\n",
            "  warnings.warn(smsg, UserWarning)\n"
          ]
        },
        {
          "output_type": "stream",
          "name": "stdout",
          "text": [
            "XGBoost Model accuracy: 0.9820\n",
            "classification report:\n",
            "               precision    recall  f1-score   support\n",
            "\n",
            "           0       1.00      0.98      0.99     41351\n",
            "           1       0.96      0.99      0.97     22515\n",
            "\n",
            "    accuracy                           0.98     63866\n",
            "   macro avg       0.98      0.98      0.98     63866\n",
            "weighted avg       0.98      0.98      0.98     63866\n",
            "\n",
            "confusion matrix:\n",
            " [[40353   998]\n",
            " [  152 22363]]\n"
          ]
        }
      ],
      "source": [
        "from xgboost import XGBClassifier\n",
        "xgb = XGBClassifier(use_label_encoder=False, eval_metric='logloss')\n",
        "xgb.fit(X_train, y_train)\n",
        "y_pred = xgb.predict(X_test)\n",
        "\n",
        "accuracy = xgb.score(X_test, y_test)\n",
        "report = classification_report(y_test, y_pred)\n",
        "conf_matrix = confusion_matrix(y_test, y_pred)\n",
        "\n",
        "print(f\"XGBoost Model accuracy: {accuracy:.4f}\")\n",
        "print('classification report:\\n',report)\n",
        "print('confusion matrix:\\n',conf_matrix)"
      ]
    },
    {
      "cell_type": "code",
      "execution_count": null,
      "metadata": {
        "id": "i_bu0TKtnxBV"
      },
      "outputs": [],
      "source": []
    },
    {
      "cell_type": "markdown",
      "metadata": {
        "id": "XJEHM1bPXyCJ"
      },
      "source": [
        "cross validation with GridSearchCV\n",
        "\n",
        "\n"
      ]
    },
    {
      "cell_type": "code",
      "execution_count": null,
      "metadata": {
        "colab": {
          "background_save": true,
          "base_uri": "https://localhost:8080/"
        },
        "id": "_6c61nF6Xa1E",
        "outputId": "41af22f8-f826-447b-b760-251232384313"
      },
      "outputs": [
        {
          "name": "stdout",
          "output_type": "stream",
          "text": [
            "Fitting 5 folds for each of 2187 candidates, totalling 10935 fits\n"
          ]
        },
        {
          "name": "stderr",
          "output_type": "stream",
          "text": [
            "/usr/local/lib/python3.10/dist-packages/joblib/externals/loky/process_executor.py:752: UserWarning: A worker stopped while some jobs were given to the executor. This can be caused by a too short worker timeout or by a memory leak.\n",
            "  warnings.warn(\n"
          ]
        }
      ],
      "source": [
        "import numpy as np\n",
        "from sklearn.model_selection import GridSearchCV\n",
        "param_grid = {\n",
        "    'n_estimators': [100, 200, 300],\n",
        "    'learning_rate': [0.01, 0.1, 0.2],\n",
        "    'max_depth': [3, 5, 7],\n",
        "    'min_child_weight': [1, 3, 5],\n",
        "    'subsample': [0.8, 0.9, 1.0],\n",
        "    'colsample_bytree': [0.8, 0.9, 1.0],\n",
        "    'gamma': [0, 0.1, 0.2]\n",
        "}\n",
        "# Create the XGBClassifier instance\n",
        "xgb_model = XGBClassifier(use_label_encoder=False, eval_metric='logloss')\n",
        "\n",
        "# Set up GridSearchCV\n",
        "grid_search = GridSearchCV(\n",
        "    estimator=xgb_model,\n",
        "    param_grid=param_grid,\n",
        "    scoring='accuracy',  # You can use other scoring metrics if needed\n",
        "    cv=5,  # Number of cross-validation folds\n",
        "    verbose=1,  # Print out progress messages\n",
        "    n_jobs=-1  # Use all available cores\n",
        ")\n",
        "\n",
        "grid_search.fit(X_train, y_train)\n",
        "best_model = grid_search.best_estimator_\n",
        "y_pred = best_model.predict(X_test)\n",
        "\n",
        "# Evaluate the model\n",
        "accuracy = best_model.score(X_test, y_test)\n",
        "report = classification_report(y_test, y_pred)\n",
        "conf_matrix = confusion_matrix(y_test, y_pred)\n",
        "\n",
        "print(f\"Best XGBoost Model accuracy: {accuracy:.4f}\")\n",
        "print('Classification report:\\n', report)\n",
        "print('Confusion matrix:\\n', conf_matrix)\n",
        "print('Best Hyperparameters:\\n', grid_search.best_params_)\n"
      ]
    },
    {
      "cell_type": "markdown",
      "metadata": {
        "id": "hF_7wcMvYu98"
      },
      "source": [
        "Average Bias, Average Variance and Test RMSE"
      ]
    },
    {
      "cell_type": "code",
      "execution_count": null,
      "metadata": {
        "colab": {
          "base_uri": "https://localhost:8080/"
        },
        "id": "Ai5YixYNYF-E",
        "outputId": "18155cd3-1287-4615-a6f5-745af7076ee2"
      },
      "outputs": [
        {
          "name": "stderr",
          "output_type": "stream",
          "text": [
            "/usr/local/lib/python3.10/dist-packages/xgboost/core.py:158: UserWarning:\n",
            "\n",
            "[06:43:59] WARNING: /workspace/src/learner.cc:740: \n",
            "Parameters: { \"use_label_encoder\" } are not used.\n",
            "\n",
            "\n",
            "/usr/local/lib/python3.10/dist-packages/xgboost/core.py:158: UserWarning:\n",
            "\n",
            "[06:44:10] WARNING: /workspace/src/learner.cc:740: \n",
            "Parameters: { \"use_label_encoder\" } are not used.\n",
            "\n",
            "\n",
            "/usr/local/lib/python3.10/dist-packages/xgboost/core.py:158: UserWarning:\n",
            "\n",
            "[06:44:16] WARNING: /workspace/src/learner.cc:740: \n",
            "Parameters: { \"use_label_encoder\" } are not used.\n",
            "\n",
            "\n",
            "/usr/local/lib/python3.10/dist-packages/xgboost/core.py:158: UserWarning:\n",
            "\n",
            "[06:44:21] WARNING: /workspace/src/learner.cc:740: \n",
            "Parameters: { \"use_label_encoder\" } are not used.\n",
            "\n",
            "\n",
            "/usr/local/lib/python3.10/dist-packages/xgboost/core.py:158: UserWarning:\n",
            "\n",
            "[06:44:28] WARNING: /workspace/src/learner.cc:740: \n",
            "Parameters: { \"use_label_encoder\" } are not used.\n",
            "\n",
            "\n"
          ]
        },
        {
          "name": "stdout",
          "output_type": "stream",
          "text": [
            "Average Bias: 0.0183\n",
            "Average Variance: 0.2324\n",
            "Test RMSE: 0.1344\n"
          ]
        }
      ],
      "source": [
        "from sklearn.model_selection import KFold\n",
        "import numpy as np\n",
        "from sklearn.metrics import mean_squared_error\n",
        "\n",
        "# Initialize KFold cross-validation\n",
        "kf = KFold(n_splits=5, shuffle=True, random_state=42)\n",
        "biases = []\n",
        "variances = []\n",
        "\n",
        "for train_index, val_index in kf.split(X_train):\n",
        "    X_train_fold = X_train.iloc[train_index]\n",
        "    X_val_fold = X_train.iloc[val_index]\n",
        "    y_train_fold = y_train.iloc[train_index]\n",
        "    y_val_fold = y_train.iloc[val_index]\n",
        "\n",
        "    # Train the model (XGBClassifier)\n",
        "    xgb.fit(X_train_fold, y_train_fold)\n",
        "\n",
        "    # Predict on validation set\n",
        "    predictions = xgb.predict(X_val_fold)\n",
        "\n",
        "    # Compute bias (using accuracy error for classification)\n",
        "    bias = np.mean(predictions != y_val_fold)\n",
        "    biases.append(bias)\n",
        "\n",
        "    # Variance for XGBClassifier: Calculating variance based on predictions over multiple folds\n",
        "    # Since we can't access individual trees, we can look at the variation in predictions over different folds\n",
        "    variances.append(np.var(predictions))\n",
        "\n",
        "# Compute average bias and variance\n",
        "average_bias = np.mean(biases)\n",
        "average_variance = np.mean(variances)\n",
        "\n",
        "print(f\"Average Bias: {average_bias:.4f}\")\n",
        "print(f\"Average Variance: {average_variance:.4f}\")\n",
        "\n",
        "# Evaluate on the test set\n",
        "y_test_pred = xgb.predict(X_test)\n",
        "test_error = mean_squared_error(y_test, y_test_pred, squared=False)  # Root Mean Squared Error (RMSE)\n",
        "print(f\"Test RMSE: {test_error:.4f}\")\n"
      ]
    },
    {
      "cell_type": "markdown",
      "metadata": {
        "id": "FNnExg0JZsRX"
      },
      "source": [
        "Type I Error and Type II Error"
      ]
    },
    {
      "cell_type": "code",
      "execution_count": null,
      "metadata": {
        "colab": {
          "base_uri": "https://localhost:8080/"
        },
        "id": "8ZxeIxTTZscf",
        "outputId": "e7b47a8a-3275-41ae-c315-f5c7100e28f2"
      },
      "outputs": [
        {
          "name": "stdout",
          "output_type": "stream",
          "text": [
            "False Positives (Type I Error): 998\n",
            "False Negatives (Type II Error): 152\n"
          ]
        }
      ],
      "source": [
        "# Extract True Positive, False Positive, True Negative, False Negative\n",
        "tn, fp, fn, tp = conf_matrix.ravel()  # This works for binary classification\n",
        "\n",
        "# Calculate False Positives (Type I Error) and False Negatives (Type II Error)\n",
        "false_positives = fp\n",
        "false_negatives = fn\n",
        "\n",
        "print(f\"False Positives (Type I Error): {false_positives}\")\n",
        "print(f\"False Negatives (Type II Error): {false_negatives}\")"
      ]
    },
    {
      "cell_type": "markdown",
      "metadata": {
        "id": "PfQrCpxdH6lz"
      },
      "source": [
        "# Feature importance"
      ]
    },
    {
      "cell_type": "code",
      "execution_count": null,
      "metadata": {
        "colab": {
          "base_uri": "https://localhost:8080/"
        },
        "id": "-CXTViuO5P2X",
        "outputId": "163490cc-55bb-4c41-88a1-caffc14f1faa"
      },
      "outputs": [
        {
          "output_type": "stream",
          "name": "stdout",
          "text": [
            "X_train preview:\n",
            "         0         1         2         3    4    5    6    7    8    9    10  \\\n",
            "0 -0.028481 -0.094498 -0.100854 -0.089588  0.0  0.0  0.0  0.0  0.0  0.0  0.0   \n",
            "1 -0.032843 -0.097288 -0.108298 -0.092552  0.0  0.0  0.0  0.0  0.0  0.0  0.0   \n",
            "2 -0.029353 -0.097299 -0.104044 -0.092564  0.0  0.0  0.0  0.0  0.0  0.0  0.0   \n",
            "3 -0.039647 -0.094887 -0.098727 -0.090001  0.0  0.0  0.0  0.0  0.0  0.0  0.0   \n",
            "4 -0.038077 -0.095043 -0.104044 -0.090167  0.0  0.0  0.0  0.0  0.0  0.0  0.0   \n",
            "\n",
            "    11   12   13   14   15   16   17   18  \n",
            "0  0.0  0.0  0.0  0.0  0.0  0.0  0.0  0.0  \n",
            "1  0.0  0.0  0.0  0.0  0.0  0.0  0.0  0.0  \n",
            "2  0.0  0.0  0.0  0.0  0.0  0.0  0.0  0.0  \n",
            "3  0.0  0.0  0.0  0.0  0.0  0.0  0.0  0.0  \n",
            "4  0.0  0.0  0.0  0.0  0.0  0.0  0.0  0.0  \n",
            "Feature names:\n",
            "RangeIndex(start=0, stop=19, step=1)\n",
            "Feature Importances:\n",
            "[0.2145007  0.20740885 0.5634424  0.01464805 0.         0.\n",
            " 0.         0.         0.         0.         0.         0.\n",
            " 0.         0.         0.         0.         0.         0.\n",
            " 0.        ]\n"
          ]
        }
      ],
      "source": [
        "import pandas as pd\n",
        "\n",
        "# Convert X_train to DataFrame if it's not already\n",
        "if not hasattr(X_train, 'columns'):\n",
        "    # You need to provide the column names if converting from array\n",
        "    num_features = X_train.shape[1]\n",
        "    feature_names = [f'feature_{i}' for i in range(num_features)]\n",
        "    X_train = pd.DataFrame(X_train, columns=feature_names)\n",
        "else:\n",
        "    feature_names = X_train.columns\n",
        "\n",
        "# Print the first few rows of X_train to verify\n",
        "print(\"X_train preview:\")\n",
        "print(X_train.head())\n",
        "print(\"Feature names:\")\n",
        "print(feature_names)\n",
        "\n",
        "\n",
        "feature_importance = xgb.feature_importances_\n",
        "\n",
        "# Print feature importances to verify\n",
        "print(\"Feature Importances:\")\n",
        "print(feature_importance)"
      ]
    },
    {
      "cell_type": "code",
      "execution_count": null,
      "metadata": {
        "colab": {
          "base_uri": "https://localhost:8080/"
        },
        "id": "aeSmVUqbrtjM",
        "outputId": "4ae86b15-d7d3-4fca-8686-503ce6ac6443"
      },
      "outputs": [
        {
          "name": "stdout",
          "output_type": "stream",
          "text": [
            "Transformed DataFrame:\n",
            "        goal  pledged  backers  usd_pledged  main_category_Art  \\\n",
            "0        NaN      NaN      NaN          NaN                NaN   \n",
            "1        NaN      NaN      NaN          NaN                NaN   \n",
            "2        NaN      NaN      NaN          NaN                NaN   \n",
            "3        NaN      NaN      NaN          NaN                NaN   \n",
            "4        NaN      NaN      NaN          NaN                NaN   \n",
            "...      ...      ...      ...          ...                ...   \n",
            "319323   NaN      NaN      NaN          NaN                NaN   \n",
            "319324   NaN      NaN      NaN          NaN                NaN   \n",
            "319325   NaN      NaN      NaN          NaN                NaN   \n",
            "319326   NaN      NaN      NaN          NaN                NaN   \n",
            "319327   NaN      NaN      NaN          NaN                NaN   \n",
            "\n",
            "        main_category_Comics  main_category_Crafts  main_category_Dance  \\\n",
            "0                        NaN                   NaN                  NaN   \n",
            "1                        NaN                   NaN                  NaN   \n",
            "2                        NaN                   NaN                  NaN   \n",
            "3                        NaN                   NaN                  NaN   \n",
            "4                        NaN                   NaN                  NaN   \n",
            "...                      ...                   ...                  ...   \n",
            "319323                   NaN                   NaN                  NaN   \n",
            "319324                   NaN                   NaN                  NaN   \n",
            "319325                   NaN                   NaN                  NaN   \n",
            "319326                   NaN                   NaN                  NaN   \n",
            "319327                   NaN                   NaN                  NaN   \n",
            "\n",
            "        main_category_Design  main_category_Fashion  \\\n",
            "0                        NaN                    NaN   \n",
            "1                        NaN                    NaN   \n",
            "2                        NaN                    NaN   \n",
            "3                        NaN                    NaN   \n",
            "4                        NaN                    NaN   \n",
            "...                      ...                    ...   \n",
            "319323                   NaN                    NaN   \n",
            "319324                   NaN                    NaN   \n",
            "319325                   NaN                    NaN   \n",
            "319326                   NaN                    NaN   \n",
            "319327                   NaN                    NaN   \n",
            "\n",
            "        main_category_Film & Video  main_category_Food  main_category_Games  \\\n",
            "0                              NaN                 NaN                  NaN   \n",
            "1                              NaN                 NaN                  NaN   \n",
            "2                              NaN                 NaN                  NaN   \n",
            "3                              NaN                 NaN                  NaN   \n",
            "4                              NaN                 NaN                  NaN   \n",
            "...                            ...                 ...                  ...   \n",
            "319323                         NaN                 NaN                  NaN   \n",
            "319324                         NaN                 NaN                  NaN   \n",
            "319325                         NaN                 NaN                  NaN   \n",
            "319326                         NaN                 NaN                  NaN   \n",
            "319327                         NaN                 NaN                  NaN   \n",
            "\n",
            "        main_category_Journalism  main_category_Music  \\\n",
            "0                            NaN                  NaN   \n",
            "1                            NaN                  NaN   \n",
            "2                            NaN                  NaN   \n",
            "3                            NaN                  NaN   \n",
            "4                            NaN                  NaN   \n",
            "...                          ...                  ...   \n",
            "319323                       NaN                  NaN   \n",
            "319324                       NaN                  NaN   \n",
            "319325                       NaN                  NaN   \n",
            "319326                       NaN                  NaN   \n",
            "319327                       NaN                  NaN   \n",
            "\n",
            "        main_category_Photography  main_category_Publishing  \\\n",
            "0                             NaN                       NaN   \n",
            "1                             NaN                       NaN   \n",
            "2                             NaN                       NaN   \n",
            "3                             NaN                       NaN   \n",
            "4                             NaN                       NaN   \n",
            "...                           ...                       ...   \n",
            "319323                        NaN                       NaN   \n",
            "319324                        NaN                       NaN   \n",
            "319325                        NaN                       NaN   \n",
            "319326                        NaN                       NaN   \n",
            "319327                        NaN                       NaN   \n",
            "\n",
            "        main_category_Technology  main_category_Theater  \n",
            "0                            NaN                    NaN  \n",
            "1                            NaN                    NaN  \n",
            "2                            NaN                    NaN  \n",
            "3                            NaN                    NaN  \n",
            "4                            NaN                    NaN  \n",
            "...                          ...                    ...  \n",
            "319323                       NaN                    NaN  \n",
            "319324                       NaN                    NaN  \n",
            "319325                       NaN                    NaN  \n",
            "319326                       NaN                    NaN  \n",
            "319327                       NaN                    NaN  \n",
            "\n",
            "[319328 rows x 19 columns]\n",
            "\n",
            "Feature Names:\n",
            "Index(['goal', 'pledged', 'backers', 'usd_pledged', 'main_category_Art',\n",
            "       'main_category_Comics', 'main_category_Crafts', 'main_category_Dance',\n",
            "       'main_category_Design', 'main_category_Fashion',\n",
            "       'main_category_Film & Video', 'main_category_Food',\n",
            "       'main_category_Games', 'main_category_Journalism',\n",
            "       'main_category_Music', 'main_category_Photography',\n",
            "       'main_category_Publishing', 'main_category_Technology',\n",
            "       'main_category_Theater'],\n",
            "      dtype='object')\n"
          ]
        }
      ],
      "source": [
        "# Fit and transform the data\n",
        "df=pd.DataFrame(df)\n",
        "\n",
        "# Extract feature names\n",
        "encoded_feature_names = preprocessor.transformers_[1][1].named_steps['onehot'].get_feature_names_out(cat_feas)\n",
        "final_feature_names = num_feas + list(encoded_feature_names)\n",
        "\n",
        "# Convert the transformed data (NumPy array) to a DataFrame\n",
        "X_encoded_df = pd.DataFrame(df, columns=final_feature_names)\n",
        "\n",
        "# Print the transformed DataFrame and feature names\n",
        "print(\"Transformed DataFrame:\")\n",
        "print(X_encoded_df)\n",
        "\n",
        "print(\"\\nFeature Names:\")\n",
        "print(X_encoded_df.columns)"
      ]
    },
    {
      "cell_type": "code",
      "source": [
        "import pandas as pd\n",
        "\n",
        "# Assuming df is your transformed feature matrix\n",
        "df = pd.DataFrame(df)\n",
        "\n",
        "# Extract the feature names from both numerical and categorical parts\n",
        "encoded_feature_names = preprocessor.transformers_[1][1].named_steps['onehot'].get_feature_names_out(cat_feas)\n",
        "final_feature_names = num_feas + list(encoded_feature_names)\n",
        "\n",
        "# Convert the transformed data (NumPy array) to a DataFrame with feature names\n",
        "X_encoded_df = pd.DataFrame(df, columns=final_feature_names)\n",
        "\n",
        "# Create a DataFrame to map feature names to their importance\n",
        "feature_importance_df = pd.DataFrame({\n",
        "    'Feature Name': final_feature_names,\n",
        "    'Importance': feature_importance\n",
        "})\n",
        "\n",
        "# Sort features by importance\n",
        "feature_importance_df = feature_importance_df.sort_values(by='Importance', ascending=False)\n",
        "\n",
        "# Print the feature importance dataframe\n",
        "print(\"Feature Importances:\")\n",
        "print(feature_importance_df)\n"
      ],
      "metadata": {
        "colab": {
          "base_uri": "https://localhost:8080/"
        },
        "id": "EW3-P-NEf4Me",
        "outputId": "81c05294-4c31-40ef-f45c-5f6f0602c5fd"
      },
      "execution_count": null,
      "outputs": [
        {
          "output_type": "stream",
          "name": "stdout",
          "text": [
            "Feature Importances:\n",
            "                  Feature Name  Importance\n",
            "2                      backers    0.563442\n",
            "0                         goal    0.214501\n",
            "1                      pledged    0.207409\n",
            "3                  usd_pledged    0.014648\n",
            "11          main_category_Food    0.000000\n",
            "17    main_category_Technology    0.000000\n",
            "16    main_category_Publishing    0.000000\n",
            "15   main_category_Photography    0.000000\n",
            "14         main_category_Music    0.000000\n",
            "13    main_category_Journalism    0.000000\n",
            "12         main_category_Games    0.000000\n",
            "9        main_category_Fashion    0.000000\n",
            "10  main_category_Film & Video    0.000000\n",
            "8         main_category_Design    0.000000\n",
            "7          main_category_Dance    0.000000\n",
            "6         main_category_Crafts    0.000000\n",
            "5         main_category_Comics    0.000000\n",
            "4            main_category_Art    0.000000\n",
            "18       main_category_Theater    0.000000\n"
          ]
        }
      ]
    },
    {
      "cell_type": "code",
      "execution_count": null,
      "metadata": {
        "colab": {
          "base_uri": "https://localhost:8080/"
        },
        "id": "U8YIZcDq2I0Y",
        "outputId": "7aede6d0-0365-4336-8d8f-11f643a9b9ca"
      },
      "outputs": [
        {
          "name": "stdout",
          "output_type": "stream",
          "text": [
            "                       Feature  Importance\n",
            "2                      backers    0.563442\n",
            "0                         goal    0.214501\n",
            "1                      pledged    0.207409\n",
            "3                  usd_pledged    0.014648\n",
            "11          main_category_Food    0.000000\n",
            "17    main_category_Technology    0.000000\n",
            "16    main_category_Publishing    0.000000\n",
            "15   main_category_Photography    0.000000\n",
            "14         main_category_Music    0.000000\n",
            "13    main_category_Journalism    0.000000\n",
            "12         main_category_Games    0.000000\n",
            "9        main_category_Fashion    0.000000\n",
            "10  main_category_Film & Video    0.000000\n",
            "8         main_category_Design    0.000000\n",
            "7          main_category_Dance    0.000000\n",
            "6         main_category_Crafts    0.000000\n",
            "5         main_category_Comics    0.000000\n",
            "4            main_category_Art    0.000000\n",
            "18       main_category_Theater    0.000000\n"
          ]
        }
      ],
      "source": [
        "# Create a DataFrame for feature importance\n",
        "importance_df = pd.DataFrame({\n",
        "    'Feature': final_feature_names,\n",
        "    'Importance': feature_importance\n",
        "})\n",
        "\n",
        "# Sort by importance\n",
        "importance_df = importance_df.sort_values(by='Importance', ascending=False)\n",
        "\n",
        "# Print the DataFrame\n",
        "print(importance_df)"
      ]
    },
    {
      "cell_type": "markdown",
      "metadata": {
        "id": "ID1T-5AlZ0iP"
      },
      "source": [
        "Feature Importance"
      ]
    },
    {
      "cell_type": "markdown",
      "metadata": {
        "id": "LlV8Bkk0aWvr"
      },
      "source": [
        "SHAP for interpreting model"
      ]
    },
    {
      "cell_type": "code",
      "execution_count": null,
      "metadata": {
        "colab": {
          "base_uri": "https://localhost:8080/"
        },
        "id": "MIaMDAZjaUjy",
        "outputId": "ce87281b-cc7e-4f9e-cd4a-2ee9639a7eff"
      },
      "outputs": [
        {
          "name": "stdout",
          "output_type": "stream",
          "text": [
            "Requirement already satisfied: shap in /usr/local/lib/python3.10/dist-packages (0.46.0)\n",
            "Requirement already satisfied: numpy in /usr/local/lib/python3.10/dist-packages (from shap) (1.26.4)\n",
            "Requirement already satisfied: scipy in /usr/local/lib/python3.10/dist-packages (from shap) (1.13.1)\n",
            "Requirement already satisfied: scikit-learn in /usr/local/lib/python3.10/dist-packages (from shap) (1.3.2)\n",
            "Requirement already satisfied: pandas in /usr/local/lib/python3.10/dist-packages (from shap) (2.1.4)\n",
            "Requirement already satisfied: tqdm>=4.27.0 in /usr/local/lib/python3.10/dist-packages (from shap) (4.66.5)\n",
            "Requirement already satisfied: packaging>20.9 in /usr/local/lib/python3.10/dist-packages (from shap) (24.1)\n",
            "Requirement already satisfied: slicer==0.0.8 in /usr/local/lib/python3.10/dist-packages (from shap) (0.0.8)\n",
            "Requirement already satisfied: numba in /usr/local/lib/python3.10/dist-packages (from shap) (0.60.0)\n",
            "Requirement already satisfied: cloudpickle in /usr/local/lib/python3.10/dist-packages (from shap) (2.2.1)\n",
            "Requirement already satisfied: llvmlite<0.44,>=0.43.0dev0 in /usr/local/lib/python3.10/dist-packages (from numba->shap) (0.43.0)\n",
            "Requirement already satisfied: python-dateutil>=2.8.2 in /usr/local/lib/python3.10/dist-packages (from pandas->shap) (2.8.2)\n",
            "Requirement already satisfied: pytz>=2020.1 in /usr/local/lib/python3.10/dist-packages (from pandas->shap) (2024.2)\n",
            "Requirement already satisfied: tzdata>=2022.1 in /usr/local/lib/python3.10/dist-packages (from pandas->shap) (2024.1)\n",
            "Requirement already satisfied: joblib>=1.1.1 in /usr/local/lib/python3.10/dist-packages (from scikit-learn->shap) (1.4.2)\n",
            "Requirement already satisfied: threadpoolctl>=2.0.0 in /usr/local/lib/python3.10/dist-packages (from scikit-learn->shap) (3.5.0)\n",
            "Requirement already satisfied: six>=1.5 in /usr/local/lib/python3.10/dist-packages (from python-dateutil>=2.8.2->pandas->shap) (1.16.0)\n"
          ]
        }
      ],
      "source": [
        "pip install shap"
      ]
    },
    {
      "cell_type": "code",
      "execution_count": null,
      "metadata": {
        "colab": {
          "base_uri": "https://localhost:8080/",
          "height": 357
        },
        "id": "VeahqsCP79MR",
        "outputId": "ec02c57a-66d0-4fcf-81a8-25ff50887465"
      },
      "outputs": [
        {
          "data": {
            "image/png": "[encoded data removed]",
            "text/plain": [
              "<Figure size 800x350 with 2 Axes>"
            ]
          },
          "metadata": {},
          "output_type": "display_data"
        }
      ],
      "source": [
        "import shap\n",
        "import pandas as pd\n",
        "import numpy as np\n",
        "\n",
        "# Assuming 'xgb' is your trained XGBoost model and 'X_test' is your test DataFrame\n",
        "# Create a SHAP explainer\n",
        "explainer = shap.Explainer(xgb)\n",
        "\n",
        "# Calculate SHAP values for the test set\n",
        "shap_values = explainer(X_test)\n",
        "\n",
        "# Convert SHAP values to a DataFrame for easier manipulation\n",
        "shap_values_df = pd.DataFrame(shap_values.values, columns=X_test.columns)\n",
        "\n",
        "# Get the absolute values of the SHAP values and sum them for each feature\n",
        "feature_importance = np.abs(shap_values_df).sum(axis=0)\n",
        "\n",
        "# Get the indices of the top N features with the highest importance\n",
        "top_n = 5\n",
        "top_features = feature_importance.nlargest(top_n).index\n",
        "\n",
        "# Filter SHAP values to keep only the top features\n",
        "top_shap_values = shap_values_df[top_features]\n",
        "\n",
        "# Create a summary plot for the top features\n",
        "shap.summary_plot(top_shap_values.values, X_test[top_features], feature_names=top_features)\n",
        "\n"
      ]
    }
  ],
  "metadata": {
    "colab": {
      "collapsed_sections": [
        "AJCJImHXWDML",
        "v7FAFDaPVVOr",
        "AFFJtsLmKqEd",
        "8caRQOMCYcxI"
      ],
      "provenance": [],
      "include_colab_link": true
    },
    "kernelspec": {
      "display_name": "Python 3",
      "name": "python3"
    },
    "language_info": {
      "name": "python"
    }
  },
  "nbformat": 4,
  "nbformat_minor": 0
}